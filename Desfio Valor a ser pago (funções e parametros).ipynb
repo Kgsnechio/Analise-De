{
 "cells": [
  {
   "cell_type": "code",
   "execution_count": 2,
   "metadata": {},
   "outputs": [],
   "source": [
    "def calcular_valor (qtde, valor, moeda=\"real\", desconto=None, acrescimo=None):\n",
    "    \n",
    "    valorBruto = qtde * valor\n",
    "    \n",
    "    if desconto:\n",
    "        valorLiquido = valorBruto - (valorBruto * (desconto / 100))\n",
    "    elif acrescimo:\n",
    "        valorLiquido = valorBruto + (valorBruto * (acrescimo / 100))\n",
    "    else:\n",
    "        valorLiquido = valorBruto\n",
    "        \n",
    "    if moeda == \"real\":\n",
    "        return valorLiquido\n",
    "    elif moeda == \"dolar\":\n",
    "        return valorLiquido * 5\n",
    "    elif moeda == \"euro\":\n",
    "        return valorLiquido * 5.7"
   ]
  },
  {
   "cell_type": "code",
   "execution_count": 8,
   "metadata": {},
   "outputs": [
    {
     "name": "stdout",
     "output_type": "stream",
     "text": [
      "Valor da compra é R$ 14010.125\n"
     ]
    }
   ],
   "source": [
    "print(\"Valor da compra é R$ {}\".format(calcular_valor(5,589.90,\"dolar\",5,0)))"
   ]
  },
  {
   "cell_type": "code",
   "execution_count": 10,
   "metadata": {},
   "outputs": [
    {
     "name": "stdout",
     "output_type": "stream",
     "text": [
      "<class 'int'>\n",
      "<class 'str'>\n"
     ]
    }
   ],
   "source": [
    "x = 10\n",
    "print(type(x))\n",
    "a = \"nome\"\n",
    "print(type(a))"
   ]
  },
  {
   "cell_type": "code",
   "execution_count": 11,
   "metadata": {},
   "outputs": [
    {
     "name": "stdout",
     "output_type": "stream",
     "text": [
      "0.8\n",
      "0\n"
     ]
    }
   ],
   "source": [
    "x = 4\n",
    "\n",
    "y = 5\n",
    "\n",
    "print(x / y)\n",
    "\n",
    "print(x // y)"
   ]
  },
  {
   "cell_type": "code",
   "execution_count": 12,
   "metadata": {},
   "outputs": [
    {
     "name": "stdout",
     "output_type": "stream",
     "text": [
      "G\n",
      "u\n",
      "i\n",
      "d\n",
      "o\n"
     ]
    }
   ],
   "source": [
    "nome = 'Guido'\n",
    "\n",
    "for i in nome:\n",
    "    print(i)"
   ]
  },
  {
   "cell_type": "code",
   "execution_count": 13,
   "metadata": {},
   "outputs": [],
   "source": [
    "def calcular (*args):\n",
    "    r = sum(args)\n",
    "    \n",
    "    for i in args:\n",
    "        r += i\n",
    "    \n",
    "    return r"
   ]
  },
  {
   "cell_type": "code",
   "execution_count": 14,
   "metadata": {},
   "outputs": [
    {
     "data": {
      "text/plain": [
       "20"
      ]
     },
     "execution_count": 14,
     "metadata": {},
     "output_type": "execute_result"
    }
   ],
   "source": [
    "calcular(1,4,5)"
   ]
  },
  {
   "cell_type": "code",
   "execution_count": null,
   "metadata": {},
   "outputs": [],
   "source": []
  }
 ],
 "metadata": {
  "kernelspec": {
   "display_name": "Python 3",
   "language": "python",
   "name": "python3"
  },
  "language_info": {
   "codemirror_mode": {
    "name": "ipython",
    "version": 3
   },
   "file_extension": ".py",
   "mimetype": "text/x-python",
   "name": "python",
   "nbconvert_exporter": "python",
   "pygments_lexer": "ipython3",
   "version": "3.8.5"
  }
 },
 "nbformat": 4,
 "nbformat_minor": 4
}
