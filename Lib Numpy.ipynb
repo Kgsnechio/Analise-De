{
 "cells": [
  {
   "cell_type": "markdown",
   "metadata": {},
   "source": [
    "# Numpy"
   ]
  },
  {
   "cell_type": "markdown",
   "metadata": {},
   "source": [
    "### Importando a biblioteca numpy"
   ]
  },
  {
   "cell_type": "code",
   "execution_count": 3,
   "metadata": {},
   "outputs": [],
   "source": [
    "import numpy as np"
   ]
  },
  {
   "cell_type": "code",
   "execution_count": 4,
   "metadata": {},
   "outputs": [],
   "source": [
    "lista = list(range(0,10))"
   ]
  },
  {
   "cell_type": "code",
   "execution_count": 5,
   "metadata": {},
   "outputs": [
    {
     "name": "stdout",
     "output_type": "stream",
     "text": [
      "[0, 1, 2, 3, 4, 5, 6, 7, 8, 9]\n",
      "10\n"
     ]
    }
   ],
   "source": [
    "print(lista)\n",
    "print(len(lista))"
   ]
  },
  {
   "cell_type": "code",
   "execution_count": 6,
   "metadata": {},
   "outputs": [],
   "source": [
    "lista2 = np.array(lista)"
   ]
  },
  {
   "cell_type": "code",
   "execution_count": 7,
   "metadata": {},
   "outputs": [
    {
     "name": "stdout",
     "output_type": "stream",
     "text": [
      "[0, 3, 6, 9, 12, 15, 18, 21, 24, 27]\n"
     ]
    }
   ],
   "source": [
    "print(list(map(lambda valor : valor * 3 , lista2)))"
   ]
  },
  {
   "cell_type": "code",
   "execution_count": 8,
   "metadata": {},
   "outputs": [],
   "source": [
    "soma = lambda a,b : a+b"
   ]
  },
  {
   "cell_type": "code",
   "execution_count": 9,
   "metadata": {},
   "outputs": [],
   "source": [
    "mult = lambda a,b : a*b"
   ]
  },
  {
   "cell_type": "code",
   "execution_count": 10,
   "metadata": {},
   "outputs": [],
   "source": [
    "  def criaMatriz (num, num2) : \n",
    "        return list(map(lambda valor : list(range(valor, num2 + valor)) , range(0, num + 1)))"
   ]
  },
  {
   "cell_type": "markdown",
   "metadata": {},
   "source": [
    "## Listas e Arrays - np.array(lista)"
   ]
  },
  {
   "cell_type": "code",
   "execution_count": 11,
   "metadata": {},
   "outputs": [
    {
     "name": "stdout",
     "output_type": "stream",
     "text": [
      "[1 2 3] é um array de uma dimenção\n"
     ]
    }
   ],
   "source": [
    "minha_lista = [1,2,3]\n",
    "\n",
    "minha_lista = np.array(minha_lista)\n",
    "\n",
    "print('{} é um array de uma dimenção'.format(minha_lista))"
   ]
  },
  {
   "cell_type": "code",
   "execution_count": 12,
   "metadata": {},
   "outputs": [
    {
     "name": "stdout",
     "output_type": "stream",
     "text": [
      "[[0, 1, 2, 3, 4], [1, 2, 3, 4, 5], [2, 3, 4, 5, 6], [3, 4, 5, 6, 7]]\n"
     ]
    }
   ],
   "source": [
    "print(criaMatriz(3,5))"
   ]
  },
  {
   "cell_type": "code",
   "execution_count": 13,
   "metadata": {},
   "outputs": [
    {
     "name": "stdout",
     "output_type": "stream",
     "text": [
      "É uma Matriz de 2 dimentções\n",
      "[[0 1 2]\n",
      " [1 2 3]\n",
      " [2 3 4]]\n"
     ]
    }
   ],
   "source": [
    "print('É uma Matriz de 2 dimentções')\n",
    "print(np.array(criaMatriz(2,3))) "
   ]
  },
  {
   "cell_type": "code",
   "execution_count": 14,
   "metadata": {},
   "outputs": [
    {
     "name": "stdout",
     "output_type": "stream",
     "text": [
      "[[  0   1   2 ... 107 108 109]\n",
      " [  1   2   3 ... 108 109 110]\n",
      " [  2   3   4 ... 109 110 111]\n",
      " ...\n",
      " [  8   9  10 ... 115 116 117]\n",
      " [  9  10  11 ... 116 117 118]\n",
      " [ 10  11  12 ... 117 118 119]]\n"
     ]
    }
   ],
   "source": [
    "print(np.array(criaMatriz(10,110)))"
   ]
  },
  {
   "cell_type": "markdown",
   "metadata": {},
   "source": [
    "### Métodos de criação de arrays com Numpy"
   ]
  },
  {
   "cell_type": "code",
   "execution_count": 15,
   "metadata": {},
   "outputs": [
    {
     "data": {
      "text/plain": [
       "array([ 0,  2,  4,  6,  8, 10])"
      ]
     },
     "execution_count": 15,
     "metadata": {},
     "output_type": "execute_result"
    }
   ],
   "source": [
    "np.arange(0, 11, 2)"
   ]
  },
  {
   "cell_type": "code",
   "execution_count": 16,
   "metadata": {},
   "outputs": [
    {
     "data": {
      "text/plain": [
       "array([ 0,  1,  2,  3,  4,  5,  6,  7,  8,  9, 10, 11, 12, 13, 14, 15, 16,\n",
       "       17, 18, 19])"
      ]
     },
     "execution_count": 16,
     "metadata": {},
     "output_type": "execute_result"
    }
   ],
   "source": [
    "np.arange(0, 20)"
   ]
  },
  {
   "cell_type": "code",
   "execution_count": 17,
   "metadata": {},
   "outputs": [
    {
     "data": {
      "text/plain": [
       "array([ 0., 10.])"
      ]
     },
     "execution_count": 17,
     "metadata": {},
     "output_type": "execute_result"
    }
   ],
   "source": [
    "np.linspace(0,10,2)"
   ]
  },
  {
   "cell_type": "code",
   "execution_count": 18,
   "metadata": {},
   "outputs": [
    {
     "name": "stdout",
     "output_type": "stream",
     "text": [
      "linspace cria arrays de um intervalo de valores, com N valores\n",
      "[ 0.  5. 10.]\n"
     ]
    }
   ],
   "source": [
    "print('linspace cria arrays de um intervalo de valores, com N valores')\n",
    "\n",
    "print(np.linspace(0, 10, 3))"
   ]
  },
  {
   "cell_type": "markdown",
   "metadata": {},
   "source": [
    "### Criando Matrizes"
   ]
  },
  {
   "cell_type": "markdown",
   "metadata": {},
   "source": [
    "#### Matrizes de ZEROS"
   ]
  },
  {
   "cell_type": "code",
   "execution_count": 19,
   "metadata": {},
   "outputs": [
    {
     "data": {
      "text/plain": [
       "array([0., 0., 0.])"
      ]
     },
     "execution_count": 19,
     "metadata": {},
     "output_type": "execute_result"
    }
   ],
   "source": [
    "np.zeros(3)"
   ]
  },
  {
   "cell_type": "code",
   "execution_count": 20,
   "metadata": {},
   "outputs": [
    {
     "name": "stdout",
     "output_type": "stream",
     "text": [
      "[0. 0. 0.]\n"
     ]
    }
   ],
   "source": [
    "arr = np.zeros(3)\n",
    "\n",
    "print(arr)"
   ]
  },
  {
   "cell_type": "code",
   "execution_count": 21,
   "metadata": {
    "scrolled": true
   },
   "outputs": [
    {
     "name": "stdout",
     "output_type": "stream",
     "text": [
      "[[0. 0. 0. 0. 0.]\n",
      " [0. 0. 0. 0. 0.]\n",
      " [0. 0. 0. 0. 0.]\n",
      " [0. 0. 0. 0. 0.]\n",
      " [0. 0. 0. 0. 0.]]\n"
     ]
    }
   ],
   "source": [
    "arr = np.zeros((5,5))\n",
    "\n",
    "print(arr)"
   ]
  },
  {
   "cell_type": "markdown",
   "metadata": {},
   "source": [
    "#### Matrizes de UNS"
   ]
  },
  {
   "cell_type": "code",
   "execution_count": 22,
   "metadata": {},
   "outputs": [
    {
     "data": {
      "text/plain": [
       "array([1., 1., 1.])"
      ]
     },
     "execution_count": 22,
     "metadata": {},
     "output_type": "execute_result"
    }
   ],
   "source": [
    "np.ones(3)"
   ]
  },
  {
   "cell_type": "code",
   "execution_count": 23,
   "metadata": {},
   "outputs": [
    {
     "name": "stdout",
     "output_type": "stream",
     "text": [
      "[[1. 1. 1.]\n",
      " [1. 1. 1.]\n",
      " [1. 1. 1.]]\n"
     ]
    }
   ],
   "source": [
    "arr = np.ones((3,3))\n",
    "\n",
    "print(arr)"
   ]
  },
  {
   "cell_type": "markdown",
   "metadata": {},
   "source": [
    "#### Matrizes Identidades (diagonal principal com 1)"
   ]
  },
  {
   "cell_type": "code",
   "execution_count": 24,
   "metadata": {},
   "outputs": [
    {
     "data": {
      "text/plain": [
       "array([[1., 0., 0., 0., 0.],\n",
       "       [0., 1., 0., 0., 0.],\n",
       "       [0., 0., 1., 0., 0.],\n",
       "       [0., 0., 0., 1., 0.],\n",
       "       [0., 0., 0., 0., 1.]])"
      ]
     },
     "execution_count": 24,
     "metadata": {},
     "output_type": "execute_result"
    }
   ],
   "source": [
    "np.eye((5))"
   ]
  },
  {
   "cell_type": "markdown",
   "metadata": {},
   "source": [
    "### Biblioteca Random"
   ]
  },
  {
   "cell_type": "markdown",
   "metadata": {},
   "source": [
    "cria um intervalo de valores aleatórios entre 0 e 1"
   ]
  },
  {
   "cell_type": "code",
   "execution_count": 25,
   "metadata": {},
   "outputs": [
    {
     "data": {
      "text/plain": [
       "array([0.54679005, 0.28175911, 0.60842506, 0.79856186, 0.81527112])"
      ]
     },
     "execution_count": 25,
     "metadata": {},
     "output_type": "execute_result"
    }
   ],
   "source": [
    "np.random.rand(5)"
   ]
  },
  {
   "cell_type": "code",
   "execution_count": 26,
   "metadata": {},
   "outputs": [
    {
     "data": {
      "text/plain": [
       "array([[1.33615882, 4.98920998, 2.42457677, 6.77808255, 5.22985079],\n",
       "       [0.86002506, 9.79460183, 0.69841709, 9.8430458 , 1.7092806 ],\n",
       "       [4.81423803, 6.26410756, 2.83873573, 5.2422528 , 6.50667121],\n",
       "       [2.00601332, 1.59666574, 6.13713491, 0.48117252, 2.32402265],\n",
       "       [0.65234347, 8.63676567, 0.16050371, 6.11829715, 9.52321448]])"
      ]
     },
     "execution_count": 26,
     "metadata": {},
     "output_type": "execute_result"
    }
   ],
   "source": [
    "np.random.rand(5, 5) * 10"
   ]
  },
  {
   "cell_type": "markdown",
   "metadata": {},
   "source": [
    "Não precisa passar tuplas como paramentros, pode receber N paramentros para N dimensões da Matriz"
   ]
  },
  {
   "cell_type": "code",
   "execution_count": 27,
   "metadata": {},
   "outputs": [
    {
     "data": {
      "text/plain": [
       "array([[[0.62705551, 0.21924183, 0.82156453],\n",
       "        [0.73931082, 0.6915584 , 0.23886111],\n",
       "        [0.02129528, 0.48350887, 0.92335094]],\n",
       "\n",
       "       [[0.46243117, 0.72986702, 0.72211858],\n",
       "        [0.49830205, 0.72527741, 0.77838219],\n",
       "        [0.86957917, 0.01531011, 0.6594129 ]],\n",
       "\n",
       "       [[0.05776496, 0.48793721, 0.43999631],\n",
       "        [0.07316171, 0.96686425, 0.11085849],\n",
       "        [0.82263352, 0.05156081, 0.30585954]]])"
      ]
     },
     "execution_count": 27,
     "metadata": {},
     "output_type": "execute_result"
    }
   ],
   "source": [
    "np.random.rand(3,3,3) "
   ]
  },
  {
   "cell_type": "markdown",
   "metadata": {},
   "source": [
    "'"
   ]
  },
  {
   "cell_type": "markdown",
   "metadata": {},
   "source": [
    "A função randn() cria numeros aleatórios não uniformes: média 0 e desvio padrão 1"
   ]
  },
  {
   "cell_type": "code",
   "execution_count": 28,
   "metadata": {},
   "outputs": [
    {
     "data": {
      "text/plain": [
       "array([[ 0.67481847,  0.17256064,  0.50878614,  0.71964233],\n",
       "       [ 0.95898967,  0.9698979 ,  0.0960561 ,  0.10486126],\n",
       "       [-0.27534565, -2.36564854,  0.21281953, -0.26613474]])"
      ]
     },
     "execution_count": 28,
     "metadata": {},
     "output_type": "execute_result"
    }
   ],
   "source": [
    "np.random.randn(3,4)"
   ]
  },
  {
   "cell_type": "markdown",
   "metadata": {},
   "source": [
    "#### Random com numeros inteiros"
   ]
  },
  {
   "cell_type": "code",
   "execution_count": 29,
   "metadata": {},
   "outputs": [
    {
     "data": {
      "text/plain": [
       "array([59,  5, 34, 30, 98, 51,  0, 30, 26, 80])"
      ]
     },
     "execution_count": 29,
     "metadata": {},
     "output_type": "execute_result"
    }
   ],
   "source": [
    "np.random.randint(0, 100, 10)"
   ]
  },
  {
   "cell_type": "code",
   "execution_count": 30,
   "metadata": {},
   "outputs": [
    {
     "data": {
      "text/plain": [
       "array([[ 1., 57., 20.],\n",
       "       [85., 50.,  5.],\n",
       "       [51., 86., 62.]])"
      ]
     },
     "execution_count": 30,
     "metadata": {},
     "output_type": "execute_result"
    }
   ],
   "source": [
    "np.round(\n",
    "    np.random.rand(3,3) * 100\n",
    ")"
   ]
  },
  {
   "cell_type": "code",
   "execution_count": 31,
   "metadata": {},
   "outputs": [
    {
     "data": {
      "text/plain": [
       "array([[ 11.,  -5.,  31., -13.,  10.,  -9.,   9.,  -7.,  -2.,   2.],\n",
       "       [ 18.,   0.,  13.,   3.,  -3.,  -8.,  -0.,   6.,  -6.,  -1.],\n",
       "       [-16.,   5.,   5.,  -2.,  -6.,   9.,   9.,  -4.,  13.,   4.],\n",
       "       [ -2.,   7.,  -8.,   2.,  -3., -14.,   1.,  13.,   4.,   4.],\n",
       "       [  1.,  -6.,   5.,   5., -10.,  -5.,   2., -13., -12.,  -7.],\n",
       "       [  4.,   8.,  -8.,   8.,   2.,   3.,  -4.,  12.,   8.,  -0.],\n",
       "       [ -6.,  34.,  -1.,  -3., -18.,  -1., -10.,   6.,  -3., -10.],\n",
       "       [ 24.,   9., -14., -13.,  -2.,  -6., -12., -14.,  17.,  -7.],\n",
       "       [ -5.,  12.,   2.,   1.,  -1.,   9., -12.,   7.,  -8., -33.],\n",
       "       [  0.,  -2., -10.,  -8.,  -4.,  -8., -10.,  11., -12., -16.]])"
      ]
     },
     "execution_count": 31,
     "metadata": {},
     "output_type": "execute_result"
    }
   ],
   "source": [
    "np.round(np.random.randn(10,10) * 10)"
   ]
  },
  {
   "cell_type": "markdown",
   "metadata": {},
   "source": [
    "'\n",
    "## Atributos e Métodos Numpy"
   ]
  },
  {
   "cell_type": "code",
   "execution_count": 32,
   "metadata": {},
   "outputs": [
    {
     "name": "stdout",
     "output_type": "stream",
     "text": [
      "[5. 5. 7. 8. 9. 2. 3. 6. 6. 9. 8. 8. 3. 3. 3. 1. 3. 8. 4. 2. 1. 1. 9. 6.\n",
      " 8.]\n"
     ]
    }
   ],
   "source": [
    "arr = np.round(np.random.rand(25)*10)\n",
    "\n",
    "print(arr)"
   ]
  },
  {
   "cell_type": "code",
   "execution_count": 33,
   "metadata": {},
   "outputs": [
    {
     "data": {
      "text/plain": [
       "array([[5., 5., 7., 8., 9.],\n",
       "       [2., 3., 6., 6., 9.],\n",
       "       [8., 8., 3., 3., 3.],\n",
       "       [1., 3., 8., 4., 2.],\n",
       "       [1., 1., 9., 6., 8.]])"
      ]
     },
     "execution_count": 33,
     "metadata": {},
     "output_type": "execute_result"
    }
   ],
   "source": [
    "arr.reshape(5,5)"
   ]
  },
  {
   "cell_type": "code",
   "execution_count": 34,
   "metadata": {},
   "outputs": [],
   "source": [
    "arr = arr.reshape(5,5)"
   ]
  },
  {
   "cell_type": "markdown",
   "metadata": {},
   "source": [
    ".shape é um atributo dos arrays, o tamanho das matrizes"
   ]
  },
  {
   "cell_type": "code",
   "execution_count": 35,
   "metadata": {},
   "outputs": [
    {
     "data": {
      "text/plain": [
       "(5, 5)"
      ]
     },
     "execution_count": 35,
     "metadata": {},
     "output_type": "execute_result"
    }
   ],
   "source": [
    "arr.shape"
   ]
  },
  {
   "cell_type": "code",
   "execution_count": 36,
   "metadata": {},
   "outputs": [
    {
     "name": "stdout",
     "output_type": "stream",
     "text": [
      "[[[ 8.  4.  5.  5.  7. 10.  3.  8.  9.  5.]\n",
      "  [ 6.  2.  2.  2.  1.  1.  6.  2.  7.  7.]\n",
      "  [ 1.  1.  1.  6.  1.  6.  9.  7.  8.  5.]\n",
      "  [ 8.  0.  1.  3.  5.  8.  7.  6.  5.  2.]\n",
      "  [10.  1.  1.  3.  3.  8.  1.  3.  4.  7.]]\n",
      "\n",
      " [[ 1.  0.  9.  2. 10.  1.  1.  9.  8.  9.]\n",
      "  [ 6.  8.  7.  5.  5.  2.  1.  1.  9.  3.]\n",
      "  [ 2.  6.  6.  6.  6.  4.  6.  1.  8.  5.]\n",
      "  [ 6.  4.  8.  5.  9.  3.  1.  5.  4.  0.]\n",
      "  [ 4.  2.  4.  1.  6.  4.  1.  7.  3.  2.]]\n",
      "\n",
      " [[ 0.  3.  5.  6.  2.  1.  8.  2.  3.  5.]\n",
      "  [ 7.  4.  9.  0.  7.  4.  5. 10.  1.  1.]\n",
      "  [ 5.  2.  7.  0.  6.  7.  6.  3.  1.  5.]\n",
      "  [ 5.  5.  6.  2.  4.  1.  8.  9.  8.  6.]\n",
      "  [ 8.  7.  4.  7.  0.  8.  2.  5.  7.  9.]]\n",
      "\n",
      " [[ 2.  4.  3.  6.  2. 10.  1.  9.  5.  4.]\n",
      "  [ 5.  6.  1.  1.  6.  8.  3.  1.  5.  8.]\n",
      "  [ 7.  1.  1.  4.  0.  9.  1.  9. 10. 10.]\n",
      "  [ 7.  5.  6.  1.  3.  1.  0.  3. 10.  5.]\n",
      "  [ 1.  9.  0.  9.  4.  0.  1.  8.  7.  1.]]\n",
      "\n",
      " [[ 4.  4.  5.  3.  8.  8.  0.  0.  5.  2.]\n",
      "  [ 2.  3.  7.  5.  7.  7.  9.  1.  9.  2.]\n",
      "  [ 0.  0.  6.  7.  1.  4.  6.  8.  1.  8.]\n",
      "  [ 8.  5.  3.  9.  3.  3.  5.  9.  1.  4.]\n",
      "  [ 9.  1.  1.  5.  1.  8.  7.  8.  9.  7.]]]\n",
      "(5, 5, 10)\n"
     ]
    }
   ],
   "source": [
    "arr = np.round(np.random.rand(5,5,10)*10)\n",
    "\n",
    "print(arr)\n",
    "\n",
    "print(arr.shape)"
   ]
  },
  {
   "cell_type": "code",
   "execution_count": 37,
   "metadata": {},
   "outputs": [
    {
     "data": {
      "text/plain": [
       "10.0"
      ]
     },
     "execution_count": 37,
     "metadata": {},
     "output_type": "execute_result"
    }
   ],
   "source": [
    "arr.max() #Maior elemento do array"
   ]
  },
  {
   "cell_type": "code",
   "execution_count": 38,
   "metadata": {},
   "outputs": [
    {
     "data": {
      "text/plain": [
       "0.0"
      ]
     },
     "execution_count": 38,
     "metadata": {},
     "output_type": "execute_result"
    }
   ],
   "source": [
    "arr.min() #menor elemento"
   ]
  },
  {
   "cell_type": "code",
   "execution_count": 39,
   "metadata": {},
   "outputs": [
    {
     "data": {
      "text/plain": [
       "5"
      ]
     },
     "execution_count": 39,
     "metadata": {},
     "output_type": "execute_result"
    }
   ],
   "source": [
    "arr.argmax() # posição do maior elemento"
   ]
  },
  {
   "cell_type": "code",
   "execution_count": 40,
   "metadata": {},
   "outputs": [
    {
     "data": {
      "text/plain": [
       "31"
      ]
     },
     "execution_count": 40,
     "metadata": {},
     "output_type": "execute_result"
    }
   ],
   "source": [
    "arr.argmin() # posição do maior elemento"
   ]
  },
  {
   "cell_type": "markdown",
   "metadata": {},
   "source": [
    "'\n",
    "'\n",
    "# Fatiamentos e indexação de Arrays e Matrizes\n",
    "'\n",
    "'"
   ]
  },
  {
   "cell_type": "code",
   "execution_count": 61,
   "metadata": {},
   "outputs": [
    {
     "name": "stdout",
     "output_type": "stream",
     "text": [
      "[[ 7.  1.  3.  1.  8. 10.  7.  7.  3.  4.  7.  5.  6.  7.  3.  2.  6. 10.\n",
      "   4.  7.  9.  4.  7.  2.  6.  9.  6.  8.  3.  4.  2.  1.  1.  9.  3.  5.\n",
      "   7.  6.  7.  5.  3.  2.  6.  7.  5.  0.  2.  9.  4.  7. 10.  1.  9.  5.\n",
      "   8.  5.  6.  0.  3.  1.  7.  8.  4.  1.]]\n"
     ]
    }
   ],
   "source": [
    "base = np.round(np.random.rand(1,64)*10)\n",
    "\n",
    "print(base)"
   ]
  },
  {
   "cell_type": "code",
   "execution_count": 71,
   "metadata": {},
   "outputs": [],
   "source": [
    "matriz = base[0][:16].reshape(4,4).copy()"
   ]
  },
  {
   "cell_type": "code",
   "execution_count": 72,
   "metadata": {},
   "outputs": [
    {
     "data": {
      "text/plain": [
       "array([[ 7.,  1.,  3.,  1.],\n",
       "       [ 8., 10.,  7.,  7.],\n",
       "       [ 3.,  4.,  7.,  5.],\n",
       "       [ 6.,  7.,  3.,  2.]])"
      ]
     },
     "execution_count": 72,
     "metadata": {},
     "output_type": "execute_result"
    }
   ],
   "source": [
    "matriz"
   ]
  },
  {
   "cell_type": "code",
   "execution_count": 81,
   "metadata": {},
   "outputs": [
    {
     "data": {
      "text/plain": [
       "array([ 8., 10.,  7.,  7.])"
      ]
     },
     "execution_count": 81,
     "metadata": {},
     "output_type": "execute_result"
    }
   ],
   "source": [
    "matriz[1][:]"
   ]
  },
  {
   "cell_type": "code",
   "execution_count": 92,
   "metadata": {},
   "outputs": [
    {
     "data": {
      "text/plain": [
       "array([[ 1.],\n",
       "       [10.],\n",
       "       [ 4.],\n",
       "       [ 7.]])"
      ]
     },
     "execution_count": 92,
     "metadata": {},
     "output_type": "execute_result"
    }
   ],
   "source": [
    "np.array(list(map(lambda array: array[1:2], matriz))).reshape(len(matriz),1)"
   ]
  },
  {
   "cell_type": "code",
   "execution_count": 90,
   "metadata": {},
   "outputs": [
    {
     "data": {
      "text/plain": [
       "5.0"
      ]
     },
     "execution_count": 90,
     "metadata": {},
     "output_type": "execute_result"
    }
   ],
   "source": [
    "matriz[2][3]"
   ]
  },
  {
   "cell_type": "code",
   "execution_count": 91,
   "metadata": {},
   "outputs": [
    {
     "data": {
      "text/plain": [
       "4"
      ]
     },
     "execution_count": 91,
     "metadata": {},
     "output_type": "execute_result"
    }
   ],
   "source": [
    "len(matriz)"
   ]
  },
  {
   "cell_type": "code",
   "execution_count": 100,
   "metadata": {},
   "outputs": [],
   "source": [
    "matriz[2:4] = np.round(np.random.rand(2,4) * 1000)"
   ]
  },
  {
   "cell_type": "code",
   "execution_count": 101,
   "metadata": {},
   "outputs": [
    {
     "name": "stdout",
     "output_type": "stream",
     "text": [
      "[[  7.   1.   3.   1.]\n",
      " [  8.  10.   7.   7.]\n",
      " [ 33. 451. 552. 909.]\n",
      " [ 84. 473. 353. 881.]]\n"
     ]
    }
   ],
   "source": [
    "print(matriz)"
   ]
  },
  {
   "cell_type": "code",
   "execution_count": 103,
   "metadata": {},
   "outputs": [
    {
     "data": {
      "text/plain": [
       "array([[  1.,   3.],\n",
       "       [ 10.,   7.],\n",
       "       [451., 552.],\n",
       "       [473., 353.]])"
      ]
     },
     "execution_count": 103,
     "metadata": {},
     "output_type": "execute_result"
    }
   ],
   "source": [
    "np.array(list(map(lambda array: array[1:3], matriz))).reshape(len(matriz),2)"
   ]
  },
  {
   "cell_type": "code",
   "execution_count": 104,
   "metadata": {},
   "outputs": [
    {
     "data": {
      "text/plain": [
       "array([[  1.,   3.],\n",
       "       [ 10.,   7.],\n",
       "       [451., 552.],\n",
       "       [473., 353.]])"
      ]
     },
     "execution_count": 104,
     "metadata": {},
     "output_type": "execute_result"
    }
   ],
   "source": [
    "matriz[:,1:3]"
   ]
  },
  {
   "cell_type": "code",
   "execution_count": 105,
   "metadata": {},
   "outputs": [
    {
     "data": {
      "text/plain": [
       "array([ 7.,  8., 33., 84.])"
      ]
     },
     "execution_count": 105,
     "metadata": {},
     "output_type": "execute_result"
    }
   ],
   "source": [
    "matriz[:,0]"
   ]
  },
  {
   "cell_type": "code",
   "execution_count": 106,
   "metadata": {},
   "outputs": [
    {
     "data": {
      "text/plain": [
       "array([552., 909., 881.])"
      ]
     },
     "execution_count": 106,
     "metadata": {},
     "output_type": "execute_result"
    }
   ],
   "source": [
    "matriz[matriz > 500]"
   ]
  },
  {
   "cell_type": "code",
   "execution_count": 107,
   "metadata": {},
   "outputs": [
    {
     "data": {
      "text/plain": [
       "array([ 7.,  1.,  3.,  1.,  8., 10.,  7.,  7., 33., 84.])"
      ]
     },
     "execution_count": 107,
     "metadata": {},
     "output_type": "execute_result"
    }
   ],
   "source": [
    "matriz[matriz < 100]"
   ]
  },
  {
   "cell_type": "code",
   "execution_count": 112,
   "metadata": {},
   "outputs": [
    {
     "data": {
      "text/plain": [
       "2"
      ]
     },
     "execution_count": 112,
     "metadata": {},
     "output_type": "execute_result"
    }
   ],
   "source": [
    "len(matriz[matriz == 1])"
   ]
  },
  {
   "cell_type": "code",
   "execution_count": 119,
   "metadata": {},
   "outputs": [
    {
     "data": {
      "text/plain": [
       "10.0"
      ]
     },
     "execution_count": 119,
     "metadata": {},
     "output_type": "execute_result"
    }
   ],
   "source": [
    "matriz[1, 1]"
   ]
  },
  {
   "cell_type": "markdown",
   "metadata": {},
   "source": [
    "'\n",
    "'\n",
    "# Operações entre Array e Matrizes"
   ]
  },
  {
   "cell_type": "code",
   "execution_count": 137,
   "metadata": {},
   "outputs": [
    {
     "name": "stdout",
     "output_type": "stream",
     "text": [
      "[ 0  1  2  3  4  5  6  7  8  9 10 11]\n"
     ]
    }
   ],
   "source": [
    "arrX = np.arange(0,12)\n",
    "\n",
    "print(arrX)"
   ]
  },
  {
   "cell_type": "code",
   "execution_count": 138,
   "metadata": {},
   "outputs": [
    {
     "name": "stdout",
     "output_type": "stream",
     "text": [
      "[[ 1. 12.  1.  8.  1. 10. 12. 10.  1.  5.  2.  0.]]\n"
     ]
    }
   ],
   "source": [
    "arrY = np.round(np.random.rand(1,12)*12)\n",
    "\n",
    "print(arrY)"
   ]
  },
  {
   "cell_type": "code",
   "execution_count": 139,
   "metadata": {},
   "outputs": [
    {
     "data": {
      "text/plain": [
       "array([[ 1., 13.,  3., 11.,  5., 15., 18., 17.,  9., 14., 12., 11.]])"
      ]
     },
     "execution_count": 139,
     "metadata": {},
     "output_type": "execute_result"
    }
   ],
   "source": [
    "arrX + arrY"
   ]
  },
  {
   "cell_type": "code",
   "execution_count": 140,
   "metadata": {},
   "outputs": [
    {
     "data": {
      "text/plain": [
       "array([[ -1., -11.,   1.,  -5.,   3.,  -5.,  -6.,  -3.,   7.,   4.,   8.,\n",
       "         11.]])"
      ]
     },
     "execution_count": 140,
     "metadata": {},
     "output_type": "execute_result"
    }
   ],
   "source": [
    "arrX - arrY"
   ]
  },
  {
   "cell_type": "code",
   "execution_count": 141,
   "metadata": {},
   "outputs": [
    {
     "data": {
      "text/plain": [
       "array([[ 0., 12.,  2., 24.,  4., 50., 72., 70.,  8., 45., 20.,  0.]])"
      ]
     },
     "execution_count": 141,
     "metadata": {},
     "output_type": "execute_result"
    }
   ],
   "source": [
    "arrX * arrY"
   ]
  },
  {
   "cell_type": "code",
   "execution_count": 142,
   "metadata": {},
   "outputs": [
    {
     "name": "stderr",
     "output_type": "stream",
     "text": [
      "<ipython-input-142-80d005a43451>:1: RuntimeWarning: divide by zero encountered in true_divide\n",
      "  arrX / arrY\n"
     ]
    },
    {
     "data": {
      "text/plain": [
       "array([[0.        , 0.08333333, 2.        , 0.375     , 4.        ,\n",
       "        0.5       , 0.5       , 0.7       , 8.        , 1.8       ,\n",
       "        5.        ,        inf]])"
      ]
     },
     "execution_count": 142,
     "metadata": {},
     "output_type": "execute_result"
    }
   ],
   "source": [
    "arrX / arrY"
   ]
  },
  {
   "cell_type": "code",
   "execution_count": 145,
   "metadata": {},
   "outputs": [
    {
     "data": {
      "text/plain": [
       "array([[  1., 144.,   1.,  64.,   1., 100., 144., 100.,   1.,  25.,   4.,\n",
       "          0.]])"
      ]
     },
     "execution_count": 145,
     "metadata": {},
     "output_type": "execute_result"
    }
   ],
   "source": [
    "arrY ** 2"
   ]
  },
  {
   "cell_type": "markdown",
   "metadata": {},
   "source": [
    "### Agumas funções numpy .()"
   ]
  },
  {
   "cell_type": "code",
   "execution_count": 146,
   "metadata": {},
   "outputs": [
    {
     "data": {
      "text/plain": [
       "array([[2.71828183e+00, 1.62754791e+05, 2.71828183e+00, 2.98095799e+03,\n",
       "        2.71828183e+00, 2.20264658e+04, 1.62754791e+05, 2.20264658e+04,\n",
       "        2.71828183e+00, 1.48413159e+02, 7.38905610e+00, 1.00000000e+00]])"
      ]
     },
     "execution_count": 146,
     "metadata": {},
     "output_type": "execute_result"
    }
   ],
   "source": [
    "np.exp(arrY)  #Exponenciação"
   ]
  },
  {
   "cell_type": "code",
   "execution_count": 152,
   "metadata": {},
   "outputs": [
    {
     "data": {
      "text/plain": [
       "array([[1.        , 3.46410162, 1.        , 2.82842712, 1.        ,\n",
       "        3.16227766, 3.46410162, 3.16227766, 1.        , 2.23606798,\n",
       "        1.41421356, 0.        ]])"
      ]
     },
     "execution_count": 152,
     "metadata": {},
     "output_type": "execute_result"
    }
   ],
   "source": [
    "np.sqrt(arrY)   #Raiz Quadrada"
   ]
  },
  {
   "cell_type": "code",
   "execution_count": 153,
   "metadata": {},
   "outputs": [
    {
     "data": {
      "text/plain": [
       "array([[ 1., 12.,  1.,  8.,  1., 10., 12., 10.,  1.,  5.,  2.,  0.]])"
      ]
     },
     "execution_count": 153,
     "metadata": {},
     "output_type": "execute_result"
    }
   ],
   "source": [
    "np.sqrt(arrY ** 2)"
   ]
  },
  {
   "cell_type": "code",
   "execution_count": 154,
   "metadata": {},
   "outputs": [
    {
     "data": {
      "text/plain": [
       "array([[ 1., 12.,  1.,  8.,  1., 10., 12., 10.,  1.,  5.,  2.,  0.]])"
      ]
     },
     "execution_count": 154,
     "metadata": {},
     "output_type": "execute_result"
    }
   ],
   "source": [
    "np.sqrt(arrY)**2"
   ]
  },
  {
   "cell_type": "code",
   "execution_count": null,
   "metadata": {},
   "outputs": [],
   "source": []
  }
 ],
 "metadata": {
  "kernelspec": {
   "display_name": "Python 3",
   "language": "python",
   "name": "python3"
  },
  "language_info": {
   "codemirror_mode": {
    "name": "ipython",
    "version": 3
   },
   "file_extension": ".py",
   "mimetype": "text/x-python",
   "name": "python",
   "nbconvert_exporter": "python",
   "pygments_lexer": "ipython3",
   "version": "3.8.5"
  }
 },
 "nbformat": 4,
 "nbformat_minor": 4
}
